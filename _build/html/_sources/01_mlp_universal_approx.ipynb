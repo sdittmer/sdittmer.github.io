{
 "cells": [
  {
   "cell_type": "markdown",
   "id": "c1a8e789",
   "metadata": {
    "tags": []
   },
   "source": [
    "# The multilayer perceptron, a universal approximator\n",
    "\n",
    "We will try to answer: Is there something an MLP cannot approximate?"
   ]
  },
  {
   "cell_type": "markdown",
   "id": "3bae6339",
   "metadata": {},
   "source": [
    "* G. Cybenko. Approximation by superpositions of a sigmoidal function. Math. Control Signal, 1989.\n",
    "  + For sigmoid.\n",
    "* K. Hornik. Approximation capabilities of multilayer feedforward networks. Neural Networks, 1991.\n",
    "* A. Pinkus, Approximation theory of the MLP model in neural networks, 1999"
   ]
  },
  {
   "cell_type": "markdown",
   "id": "a1200004",
   "metadata": {},
   "source": [
    "## Two famous universal approximation theorems"
   ]
  },
  {
   "cell_type": "markdown",
   "id": "9c03ca66",
   "metadata": {},
   "source": [
    "````{prf:definition}\n",
    ":label: net_notation_def\n",
    "For $d\\in\\mathbb{N}$ and $M, N, L \\in \\mathbb{N}\\cup \\{\\infty\\}$ we denote by $\\mathcal{NN}_{d,M,N,L}^f$ the set of all neural networks $\\phi:\\mathbb{R}^d\\to\\mathbb{R}$ with the activation function $f$ after each layer (except the last), such that $M(\\phi), N(\\phi), L(\\phi) < \\infty$ and $M(\\phi)\\le M$, $N(\\phi)\\le N$, and $L(\\phi)\\le L$.\n",
    "\n",
    "With\n",
    "* $L(\\phi)$ the number of layers,\n",
    "* $N(\\phi)$ the number of neurons, defined as $N(\\phi) = d + \\sum_{j=1}^L N_j$, and\n",
    "* $M(\\phi)$ the number of non-zero parameters, i.e., $\\sum_{j=1}^L \\|A_j\\|_0 + \\|b_j\\|_0$.\n",
    "````"
   ]
  },
  {
   "cell_type": "markdown",
   "id": "ef2b3f13",
   "metadata": {},
   "source": [
    "````{prf:theorem} Hornik's universal approximation theorem\n",
    ":label: hornik_thm\n",
    "If $f$ is continuous, bounded and non-constant and $X\\subset \\mathbb{R}^d$ is compact, then\n",
    "\n",
    "$$\\overline{\\mathcal{NN}_{d,\\infty,\\infty,2}^f}=C(X).$$\n",
    "````"
   ]
  },
  {
   "cell_type": "markdown",
   "id": "91098881",
   "metadata": {},
   "source": [
    "````{prf:theorem}  Pinkus's universal approximation theorem\n",
    ":label: Pinkus_thm\n",
    "If $f$ is continuous and $X\\subset \\mathbb{R}^d$ is compact, then\n",
    "\n",
    "$$\\overline{\\mathcal{NN}_{d,\\infty,\\infty,2}^f}=C(X)$$\n",
    "\n",
    "iff $f$ is not a polynomial.\n",
    "````"
   ]
  },
  {
   "cell_type": "markdown",
   "id": "535342c8",
   "metadata": {},
   "source": [
    "## A one-dimensional universal approximation theorem"
   ]
  },
  {
   "cell_type": "markdown",
   "id": "1a53b2c9",
   "metadata": {},
   "source": [
    "````{prf:lemma} A one-dimensional approximation theorem, [source.](https://mjt.cs.illinois.edu/dlt/index.pdf).\n",
    ":label: 1d_approx_thm\n",
    "Let $g:\\mathbb{R}\\to\\mathbb{R}$ be an L-Lipschitz function. Then for any $\\epsilon > 0$ there exists a two-layer network $f$ with $\\lceil\\frac{L}{\\epsilon}\\rceil$ binary nodes $z\\mapsto 1[z\\ge0]$ such that $\\sup_{x\\in[0,1]} |f(x) - g(x)| \\le \\epsilon$.\n",
    "````"
   ]
  },
  {
   "cell_type": "markdown",
   "id": "77ad9ec2",
   "metadata": {},
   "source": [
    "```{admonition} Click for proof.\n",
    ":class: dropdown\n",
    "````{prf:proof}\n",
    "\n",
    "We define\n",
    "\n",
    "1. $m = \\lceil\\frac{L}{\\epsilon}\\rceil$,\n",
    "2. $b_i = i\\epsilon / L$ with $i\\in\\{0,..,m-1\\}$,\n",
    "3. $a_0 = g(0)$,\n",
    "4. $a_i = g(b_i) - g(b_{i-1})$,\n",
    "5. $f(x) = \\sum_{i=0}^{m-1} a_i 1[x\\ge b_i]$,\n",
    "6. $x\\in[0,1]$ and $k$ the largest index with $b_k\\le x$.\n",
    "\n",
    "From 6. we get that $f$ is constant over $[b_k,x]$.\n",
    "We also have\n",
    "\n",
    "$$|g(x) - f(x)| \\le |g(x) - g(b_k)| + |g(b_k) - f(b_k)| + |f(b_k) - f(x)|$$\n",
    "$$\\le L |x - b_k| + |g(b_k) - \\sum_{i=0}^k a_i| + 0$$\n",
    "$$\\le L \\frac{\\epsilon}{L} + |g(b_k) - g(b_0) - \\sum_{i=i}^k g(b_i) - g(b_{i-1})| = \\epsilon$$\n",
    "\n",
    "$\\square$\n",
    "```"
   ]
  },
  {
   "cell_type": "markdown",
   "id": "055bfd59",
   "metadata": {},
   "source": [
    "## A ReLU universal approximation theorem"
   ]
  },
  {
   "cell_type": "markdown",
   "id": "c410798e",
   "metadata": {},
   "source": [
    "````{prf:theorem} (A) Riesz representation theorem, [source.](https://link.springer.com/book/10.1007/3-540-34286-9)\n",
    ":label: rmk_thm\n",
    "Let $K$ be a compact metric space. Then, for any continuous linear functional $v'\\ne0$ on $C(K)$ there exists a signed measure $\\sigma\\ne0$ on the Borel-$\\sigma$-Algebra of $K$ such that\n",
    "\n",
    "$$\\forall f\\in C(K): \\; v'(f) = \\int_K f(x)d\\sigma(x).$$\n",
    "````"
   ]
  },
  {
   "cell_type": "markdown",
   "id": "ac63a58c",
   "metadata": {},
   "source": [
    "````{prf:theorem} ReLU's universal approximation theorem, [source.](https://www.math.tu-berlin.de/fileadmin/i26_fg-kutyniok/Petersen/DGD_Approximation_Theory.pdf#subsubsection.2.2.3)\n",
    ":label: relu_thm\n",
    "If $X\\subset \\mathbb{R}^d$ is compact, with $X=\\overline O$, where $O$ some open set, then\n",
    "\n",
    "$$\\overline{\\mathcal{NN}_{d,\\infty,\\infty,3}^\\mbox{ReLU}}=C(X).$$\n",
    "````"
   ]
  },
  {
   "cell_type": "markdown",
   "id": "ae8e32b9",
   "metadata": {},
   "source": [
    "```{admonition} Click for proof.\n",
    ":class: dropdown\n",
    "````{prf:proof}\n",
    "\n",
    "As it is easy to check that $U = \\mathcal{NN}_{d,\\infty,\\infty,3}^\\mbox{ReLU}$ is a linear subspace of $C(X)$, we only need to proof that it is dense. We will do a proof by contradiction.\n",
    "\n",
    "Hahn-Banach theorem $\\Rightarrow$ $\\exists$ functional $v'\\ne0$ s.t. $v'(f) = 0\\ \\forall f\\in U$\n",
    "\n",
    "Riesz representation theorem $\\Rightarrow$ $\\exists$ signed measure $\\sigma\\ne0$ such that\n",
    "\n",
    "$$\\int_X f(x)d\\sigma(x) = 0 \\ \\forall f\\in U.$$\n",
    "\n",
    "We will now show that for any cuboid $Q\\subset X \\ \\exists (f_n)_{n \\in\\mathbb{N}}\\subset U$, such that $f_n \\to \\chi_Q$ pointwise and $f_n \\le f_{n+1}$ pointwise.\n",
    "\n",
    "But, by the montone convergence theorm -- and therin will lies the contradiction -- this means, that $\\sigma(Q) = 0 \\ \\forall $ cuboids.\n",
    "\n",
    "We begin by defining the cuboid\n",
    "\n",
    "$$Q= \\Pi_{i=1}^d [c_i, e_i] \\subset X$$\n",
    "\n",
    "and the function\n",
    "\n",
    "$$\n",
    "\\begin{aligned}\n",
    "    t_i^n:\\mathbb{R}\\ni x \\mapsto t_i^n(x) = &\\mbox{ReLU}(nx_i - nc_i) - \\mbox{ReLU}(nx_i -nc_i-1) \\\\\n",
    "    + &\\mbox{ReLU}(nx_i-ne_i) - \\mbox{ReLU}(nx_i-ne_i+1),\n",
    "\\end{aligned}\n",
    "$$\n",
    "\n",
    "for $i=1,..,d$; see below for a plot. By construction we have $t_i^n$ is $1$ on $[c_i + 1/n, e_i - 1/n]$ and $t_i^{n+1}(x)\\le t_i^{n+1}(x)$.\n",
    "\n",
    "We now further define\n",
    "\n",
    "$$h_n(x) = \\mbox{ReLU}\\left(\\sum_{i=1}^d t_i^n(x) - (d-1)\\right).$$\n",
    "\n",
    "It is easy to check that $h_n$ is pointwise monotone in $n$ and converges pointwise to $\\chi_Q$.\n",
    "Since as all operations needed to compute $h_n$ are present in a two/three layer $\\mbox{ReLU}$ neural network, the proof is complete.\n",
    "\n",
    "As linear combinations of different $h_n$ can approximate any \"blocky\" piecewise constant function, which in-turn can approximate any continuous function we are done.\n",
    "\n",
    "Or, to complete the technical argument, the cuboids can generate the Borel-$\\sigma$-algebra. This means that $\\sigma(Q)=0\\forall Q$ implies that $\\sigma=0$.\n",
    "\n",
    "$\\square$\n",
    "```"
   ]
  },
  {
   "cell_type": "code",
   "execution_count": 1,
   "id": "e49095d7",
   "metadata": {
    "tags": [
     "hide-input"
    ]
   },
   "outputs": [
    {
     "data": {
      "image/png": "[encoded data removed]",
      "text/plain": [
       "<Figure size 720x288 with 1 Axes>"
      ]
     },
     "metadata": {},
     "output_type": "display_data"
    }
   ],
   "source": [
    "import numpy as np\n",
    "import matplotlib.pyplot as plt\n",
    "import logging\n",
    "logging.getLogger('matplotlib.font_manager').disabled = True\n",
    "plt.xkcd()\n",
    "\n",
    "relu = lambda x: np.clip(x, 0, np.inf)\n",
    "\n",
    "t = lambda x, n, c, e: relu(n*x - n*c) - relu(n*x - n*c - 1) + relu(n*x - n*e) - relu(n*x - n*e + 1)\n",
    "\n",
    "def plot_t(c=3, e=7):\n",
    "    xs = np.linspace(-2, 10, 1000)\n",
    "\n",
    "    plt.title(f\"A 1d plot of the function $t^n$ from the proof above.\")\n",
    "    plt.plot(xs, t(xs, n=1, c=c, e=e), 'b', label=r\"t with $n=1$\")\n",
    "    plt.plot(xs, t(xs, n=2, c=c, e=e), 'g', label=r\"t with $n=2$\")\n",
    "    plt.plot(xs, t(xs, n=1e9, c=c, e=e), 'r', label=r\"t with $n=\\infty$\")\n",
    "    plt.vlines(c, 0, 1.2, 'black', '--', label='c')\n",
    "    plt.vlines(e, 0, 1.2, 'black', '-.', label='e')\n",
    "    plt.legend()\n",
    "    plt.gcf().set_size_inches(10, 4)\n",
    "    plt.show()\n",
    "\n",
    "plot_t()"
   ]
  },
  {
   "cell_type": "markdown",
   "id": "b33b0400",
   "metadata": {},
   "source": [
    "## But wait ..."
   ]
  },
  {
   "cell_type": "markdown",
   "id": "f9f5957b",
   "metadata": {},
   "source": [
    "Recalling the Stone-Weierstrass theorem.\n",
    "\n",
    "````{prf:theorem} Stone-Weierstrass theorem\n",
    ":label: stone_weierstrass_thm\n",
    "Let $f:[a, b]\\to\\mathbb{R}$ be a continuous function and $\\epsilon > 0$. Then there is a polynomial $p$ such that\n",
    "\n",
    "$$\\|f - p \\|_\\infty < \\epsilon.$$\n",
    "````\n",
    "So why don't we simply use polynomials?"
   ]
  },
  {
   "cell_type": "markdown",
   "id": "16713490",
   "metadata": {},
   "source": [
    "```{figure} images/scale.png\n",
    "---\n",
    "height: 400px\n",
    "---\n",
    "Deep Learning: [Shut up and compute](https://en.wikiquote.org/wiki/Shut_up_and_calculate). See also \"[The Bitter Lesson](http://www.incompleteideas.net/IncIdeas/BitterLesson.html)\".\n",
    "```"
   ]
  },
  {
   "cell_type": "markdown",
   "id": "3021f373",
   "metadata": {},
   "source": [
    "## Exercises\n",
    "* Think about an $n$-layer MLP. Why does Pinkus's theorem preclude polynomials? I.e., why:\n",
    "\n",
    "$$\\mbox{activation-function} \\in \\mbox{polynomials} \\Rightarrow \\mbox{not universal approximator}?$$\n",
    "\n",
    "* Write a function that takes in\n",
    "    + a three layer ReLU network as discussed above in the form of a `torch.nn.Sequential` object,\n",
    "    + $d$ and $e$ in the form of tensors,\n",
    "    + and $n$ as an integers.\n",
    "\n",
    "    The function then returns the `torch.nn.Sequential` object with modified weights, such that the object represents $h_n$ for the given $d$, $e$, and $n$."
   ]
  },
  {
   "cell_type": "code",
   "execution_count": null,
   "id": "df8adbb9",
   "metadata": {},
   "outputs": [],
   "source": []
  }
 ],
 "metadata": {
  "kernelspec": {
   "display_name": "Python 3 (ipykernel)",
   "language": "python",
   "name": "python3"
  },
  "language_info": {
   "codemirror_mode": {
    "name": "ipython",
    "version": 3
   },
   "file_extension": ".py",
   "mimetype": "text/x-python",
   "name": "python",
   "nbconvert_exporter": "python",
   "pygments_lexer": "ipython3",
   "version": "3.9.12"
  }
 },
 "nbformat": 4,
 "nbformat_minor": 5
}

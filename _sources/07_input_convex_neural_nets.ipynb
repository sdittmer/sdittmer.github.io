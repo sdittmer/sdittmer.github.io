{
 "cells": [
  {
   "cell_type": "markdown",
   "id": "81adb584-094e-4356-be52-ce712a3f9384",
   "metadata": {},
   "source": [
    "# Input-convex neural networks"
   ]
  },
  {
   "cell_type": "markdown",
   "id": "feb67525-1b04-4aec-8885-87176b00ae67",
   "metadata": {},
   "source": [
    "* We have designed different network architectures to enforces or promote properties. E.g.,\n",
    "    + Invariance: PointNet\n",
    "    + Equivariance: CNNs\n",
    "    + Better optimizability: ResNet, normalizations.\n",
    "* Up until now only regression and classification.\n",
    "\n",
    "Plan:\n",
    "1. Design networks that are convex in their input (ICNNs) ([Source.](https://arxiv.org/pdf/1609.07152.pdf))\n",
    "2. Use ICNNs to learn convex probability density functions."
   ]
  },
  {
   "cell_type": "markdown",
   "id": "928898b3-66d3-4a60-bf6a-cf529b26d852",
   "metadata": {},
   "source": [
    "## A reminder on convexity\n",
    "\n",
    "We want to build a neural network that can only represent convex functions $f:\\mathbb{R}^n \\to \\mathbb{R}$.\n",
    "\n",
    "\n",
    "````{prf:definition}\n",
    ":label: convexity_def\n",
    "We call a function $f:\\mathbb{R}^n \\to \\mathbb{R}$ convex if for all $t\\in[0,1]$\n",
    "\n",
    "$$f(tx + (1-t)y) \\le t f(x) + (1-t)f(y) \\ \\forall x, y.$$\n",
    "````\n",
    "\n",
    "\n",
    "````{prf:lemma}\n",
    ":label: convex_local_minimum_lemma\n",
    "Any local minimum of a convex function is a global minimum.\n",
    "````\n",
    "\n",
    "And we can find it!\n",
    "\n",
    "Reminder:\n",
    "\n",
    "````{prf:theorem} Convergence of SGD\n",
    ":label: sgd_thm\n",
    "\n",
    "We assume that $f:\\mathbb{R}^n\\to\\mathbb{R}$ has an L-Lipschitz gradient, and is convex. We also assume that we use stochastic gradients $v_k$ from an unbiased estimator with a bounded variance\n",
    "\n",
    "$$\\mbox{Var}(v_k) = \\mathbb{E}\\|v_k\\|_2^2 - \\|\\mathbb{E}v_k\\|_2^2 \\le \\sigma^2.$$\n",
    "\n",
    "Then, for any SGD iteration $k$ with step size $t_k=t\\le \\frac{1}{L}$ we have\n",
    "\n",
    "$$\\mathbb{E} f(\\overline x_k) \\le f(x^*) + \\frac{\\|x_0-x^*\\|_2^2}{2tk} + t\\sigma^2,$$\n",
    "\n",
    "where $\\overline x_k = \\frac{1}{k} \\sum_{i=1}^{k}x_{i}$ and $x^* = \\arg\\min_x f(x)$.\n",
    "\n",
    "Further, we can *expect* to find an $\\epsilon/2$ optimal value within\n",
    "\n",
    "$$k = \\frac{(2\\sigma^2 + \\|x_0-x^*\\|_2^2)^2}{\\epsilon^2}$$\n",
    "\n",
    "iterations, by setting $t = \\frac{1}{\\sqrt{k}}$. Here we assume $\\frac{1}{\\sqrt{k}} \\le \\frac{1}{L}$.\n",
    "````\n",
    "\n",
    "Therefore we have:\n",
    "\n",
    "````{prf:theorem} Convergence of Gradient Descent\n",
    ":label: sgd_thm\n",
    "\n",
    "We assume that $f:\\mathbb{R}^n\\to\\mathbb{R}$ admits a Taylor expansion, has an L-Lipschitz gradient, and is convex.\n",
    "\n",
    "\n",
    "Then, for any SGD iteration $k$ with step size $t_k=t\\le \\frac{1}{L}$ we have\n",
    "\n",
    "$$f(\\overline x_k) \\le f(x^*) + \\frac{\\|x_0-x^*\\|_2^2}{2tk},$$\n",
    "\n",
    "where $\\overline x_k = \\frac{1}{k} \\sum_{i=0}^{k-1}x_{i+1}$ and $x^* = \\arg\\min_x f(x)$.\n",
    "\n",
    "Further, we can *expect* to find a $\\epsilon/2$ optimal value within\n",
    "\n",
    "$$k = \\frac{\\|x_0-x^*\\|_2^4}{\\epsilon^2}$$\n",
    "\n",
    "iterations, by setting $t = \\frac{1}{\\sqrt{k}}$.\n",
    "````"
   ]
  },
  {
   "cell_type": "markdown",
   "id": "1076ebb1-3299-4fb4-9e30-d5f14be3f8ce",
   "metadata": {
    "tags": []
   },
   "source": [
    "## Motivation -- is it be useful to learn convex pdfs?\n",
    "Assume we want to measure some data point $x\\in\\mathbb{R}$, but our measurement device has Gaussian noisy with the noise standard deviation of $\\sigma$. I.e., for the ground truth $x$ we measure a sample from\n",
    "\n",
    "$$\\mathcal{N}(x, \\sigma^2) \\hat = \\frac{1}{\\sqrt{2\\pi\\sigma^2}}\\exp -\\frac{\\left(y-x\\right)^2}{2\\sigma^2}.$$\n",
    "\n",
    "If we want to find the most likely $x$ causing our measurement $y$ we want to calculate\n",
    "\n",
    "$$\\arg\\max_x p(x|y).$$\n",
    "\n",
    "Via Bayes theorem we can write\n",
    "\n",
    "$$p(x|y) = \\frac{p(y|x)p(x)}{p(y)} \\propto p(y|x)p(x)$$\n",
    "\n",
    "and since $\\log$ is monotonically increasing we can also write\n",
    "\n",
    "$$\\arg\\max_x p(x|y) = \\arg\\min_x -\\log p(y|x) - \\log p(x)$$\n",
    "$$=\\arg\\min_x \\frac{1}{2\\sigma^2}(y-x)^2 - \\log p(x).$$\n",
    "\n",
    "If we know $-\\log p(x)$ and it is convex, then we can solve this problem via gradient descent.\n",
    "\n",
    "\n",
    "* Problem: One often has samples from $p(x)$, but not the density $p(x)$.\n",
    "* Idea: Somehow learn a convex approximation of $-\\log p(x)$."
   ]
  },
  {
   "cell_type": "markdown",
   "id": "cff94e63-b247-4126-9363-f0bc5a0c585d",
   "metadata": {},
   "source": [
    "## How to build ICNNs\n",
    "\n",
    "One can use three main properties of convex functions to build ICNNS  (ICNNs) ([Source.](https://arxiv.org/pdf/1609.07152.pdf)).\n",
    "\n",
    "1. If $g_i:\\mathbb{R}^n \\to \\mathbb{R}$ are convex function and $w_i\\ge 0$, then $x \\mapsto \\sum_i w_ig_i(x)$ is a convex function.\n",
    "2. If $g:\\mathbb{R}^n\\to\\mathbb{R}$ and $f:\\mathbb{R}\\to\\mathbb{R}$ are convex functions and $f$ is monotonically increasing, then $f\\circ g$ is convex.\n",
    "3. Linear maps are convex.\n",
    "\n",
    "We can now think about building a layer for an ICNN $f:\\mathbb{R}^n\\ni x \\mapsto f(x)\\in\\mathbb{R}$. Let $z_i$ be the input of the $i$th layer and $z_0=x$.\n",
    "\n",
    "* $A_iz_i + b_i$ is convex in $z_i$, for a linear $A_i$.\n",
    "* $\\phi_i(A_iz_i + b_i)$ is convex and monotonically increasing in $z_i$, for the entriwise convex and montonically increasing activation $\\phi$ and for $A_i\\ge0$ entriwise.\n",
    "* $\\phi_i(A_iz_i + B_ix + b_i)$ is convex in $x$ and convex and monotonically increasing in $z_i$ -- for $B_i$ a general linear mapping.\n",
    "\n",
    "Therefore we can define a ICNN with entriwise convex outputs via the concatenation layers\n",
    "\n",
    "$$\\phi_i(A_iz_i + B_ix + b_i),$$\n",
    "\n",
    "where $\\phi_i$ is a entriwise convex and monotonically increasing activation. $A_i, B_i$ are matrices, with the entries of $B_i$ being $\\ge0$ and $b_i$ being a vector."
   ]
  },
  {
   "cell_type": "markdown",
   "id": "5b2ca396-1f14-4279-b4c8-f2c8cca87fe7",
   "metadata": {},
   "source": [
    "## How to learn $-\\log p(x)$ from samples?\n",
    "\n",
    "We assume to have a dataset, $\\{x_i\\}_i$, of samples $x_i\\sim p_X(x)$.\n",
    "\n",
    "We begin with the simple observation that\n",
    "\n",
    "$$g(x) := \\mathbb{P}(x \\text{ was drawn from $p_X$ instead of $p_N$}) = \\frac{p_X(x)}{p_X(x) + p_N(x)}$$\n",
    "\n",
    "If we have such an $f$ and know $p_N$, e.g., we could define it to be a Gaussian, we can compute\n",
    "\n",
    "$$p_X = \\frac{p_N f}{1 - g}$$\n",
    "\n",
    "and\n",
    "\n",
    "$$-\\log p_X = -\\log(p_N) -\\log(g) + \\log(1 - g) = -\\log(p_N) -\\log \\frac{1}{1/g - 1} = -\\log(p_N) + \\log (1/g - 1).$$\n",
    "\n",
    "Or if we assume that the classifer does not include a final sigmoid, i.e., we have $f=\\mbox{sigmoid}(g)$ and\n",
    "\n",
    "$$-\\log p_X = -\\log(p_N) + \\log (1/\\mbox{sigmoid}(f) - 1) = -\\log(p_N) + \\log e^{-f} = -\\log(p_N) - f.$$\n",
    "\n",
    "So, if $-f$ and $-\\log(p_N)$ are convex, the whole expression is convex. This is fulfilled if, e.g., $p_N$ is a Gaussian or (on a bounded set) the uniform distribution and $f$ is concave. Architecture-wise, we can represent a concave function via the negative of a convex function. But, how can we train such an $f$?\n",
    "\n",
    "In theory (and in low dimensions) we can simply train a binary classifier via the BCE to differentiate between samples from the two distributions to get $f$."
   ]
  },
  {
   "cell_type": "markdown",
   "id": "84e77fb3-1a15-42ac-ad7c-8d32cc5e1366",
   "metadata": {},
   "source": [
    "## Example"
   ]
  },
  {
   "cell_type": "markdown",
   "id": "3201b5f4-a26d-43b8-bde6-b54b4afe9537",
   "metadata": {},
   "source": [
    "### Train an ICNN to fit $-\\log p$"
   ]
  },
  {
   "cell_type": "code",
   "execution_count": 79,
   "id": "eb6f458b-f2a1-4418-b53b-54089cfb79c8",
   "metadata": {},
   "outputs": [],
   "source": [
    "import torch\n",
    "import numpy as np\n",
    "import matplotlib.pyplot as plt"
   ]
  },
  {
   "cell_type": "code",
   "execution_count": 80,
   "id": "d4cf635d-e230-4467-8b50-6388b4e26db2",
   "metadata": {},
   "outputs": [
    {
     "data": {
      "image/png": "[encoded data removed]",
      "text/plain": [
       "<Figure size 432x288 with 1 Axes>"
      ]
     },
     "metadata": {
      "needs_background": "light"
     },
     "output_type": "display_data"
    }
   ],
   "source": [
    "def get_samplesX(n):\n",
    "    x = torch.randn(n)\n",
    "    return x\n",
    "\n",
    "\n",
    "xs = get_samplesX(16384)\n",
    "\n",
    "plt.hist(xs.numpy(), density=True, bins=100)\n",
    "plt.show()"
   ]
  },
  {
   "cell_type": "code",
   "execution_count": 81,
   "id": "9208543c-90cd-44ec-aa12-35801db439aa",
   "metadata": {},
   "outputs": [
    {
     "data": {
      "image/png": "[encoded data removed]",
      "text/plain": [
       "<Figure size 432x288 with 1 Axes>"
      ]
     },
     "metadata": {
      "needs_background": "light"
     },
     "output_type": "display_data"
    }
   ],
   "source": [
    "def get_samplesN(n):\n",
    "    η = 10 * torch.rand(n) - 5\n",
    "    return η\n",
    "\n",
    "\n",
    "ηs = get_samplesN(16384)\n",
    "\n",
    "plt.hist(ηs.numpy(), density=True, bins=100)\n",
    "plt.show()"
   ]
  },
  {
   "cell_type": "code",
   "execution_count": 137,
   "id": "053d2267-3638-48f7-9996-9ea564b20609",
   "metadata": {},
   "outputs": [],
   "source": [
    "def get_training_batch(n_half):\n",
    "    xs = get_samplesX(n_half)\n",
    "    ηs = get_samplesN(n_half)\n",
    "\n",
    "    xs = torch.cat([xs, ηs]).view(-1, 1)\n",
    "    ys = torch.zeros_like(xs)\n",
    "    ys[:n_half] = 1.\n",
    "\n",
    "    return xs, ys"
   ]
  },
  {
   "cell_type": "code",
   "execution_count": 204,
   "id": "4a0bc4b8-af41-431c-9995-5c4aae4e12bf",
   "metadata": {},
   "outputs": [],
   "source": [
    "class ICNNLayer(torch.nn.Module):\n",
    "    def __init__(self, x_dim, input_dim, output_dim, standard_act=True):\n",
    "        super().__init__()\n",
    "        self.A = torch.nn.Linear(input_dim, output_dim, bias=False)\n",
    "        self.B = torch.nn.Linear(x_dim, output_dim)\n",
    "\n",
    "        if standard_act:\n",
    "            self.act = torch.nn.LeakyReLU(negative_slope=.2)\n",
    "        else:\n",
    "            self.act = torch.nn.Identity()#torch.nn.Sigmoid()\n",
    "\n",
    "\n",
    "    def forward(self, x, z):\n",
    "        with torch.no_grad():\n",
    "            self.A.weight.clamp_(0)\n",
    "\n",
    "        Az = self.A(z)\n",
    "        Bx = self.B(x)\n",
    "\n",
    "        return self.act(Az + Bx)\n",
    "\n",
    "\n",
    "class ICNN(torch.nn.Module):\n",
    "    def __init__(self, x_dim=1, width=16):\n",
    "        super().__init__()\n",
    "        self.width = width\n",
    "\n",
    "        self.layer0 = ICNNLayer(x_dim, width, width)\n",
    "        self.layer1 = ICNNLayer(x_dim, width, width)\n",
    "        self.layer2 = ICNNLayer(x_dim, width, width)\n",
    "        self.layer3 = ICNNLayer(x_dim, width, 1, standard_act=False)\n",
    "\n",
    "    def forward(self, x):\n",
    "        z = torch.zeros(len(x), self.width, dtype=x.dtype, device=x.device)\n",
    "\n",
    "        z = self.layer0(x, z)\n",
    "        z = self.layer1(x, z)\n",
    "        z = self.layer2(x, z)\n",
    "        z = self.layer3(x, z)\n",
    "\n",
    "        return z\n",
    "\n",
    "\n",
    "class OurDensityModel(ICNN):\n",
    "    def __init__(self, x_dim=1, width=128):\n",
    "        super().__init__(x_dim=x_dim, width=width)\n",
    "\n",
    "\n",
    "    def forward(self, x):\n",
    "        fs = -super().forward(x)\n",
    "        minus_log_ps = - torch.log(torch.ones(1)/10) - fs\n",
    "        ps = torch.exp(-minus_log_ps)\n",
    "        return fs, minus_log_ps, ps"
   ]
  },
  {
   "cell_type": "code",
   "execution_count": 205,
   "id": "82b591fe-5622-480b-bf2a-3834483306cd",
   "metadata": {},
   "outputs": [
    {
     "data": {
      "image/png": "[encoded data removed]",
      "text/plain": [
       "<Figure size 432x288 with 1 Axes>"
      ]
     },
     "metadata": {
      "needs_background": "light"
     },
     "output_type": "display_data"
    }
   ],
   "source": [
    "model = OurDensityModel()\n",
    "\n",
    "optimizer = torch.optim.Adam(model.parameters(), lr=3e-4)\n",
    "criterion = torch.nn.BCEWithLogitsLoss()\n",
    "\n",
    "losses = []\n",
    "\n",
    "for _ in range(3000):\n",
    "    xs, ys = get_training_batch(256)\n",
    "    fs, minus_log_ps, ps = model(xs)\n",
    "\n",
    "    loss = criterion(fs, ys)\n",
    "    losses.append(loss.item())\n",
    "\n",
    "    optimizer.zero_grad()\n",
    "    loss.backward()\n",
    "    optimizer.step()\n",
    "\n",
    "\n",
    "plt.plot(losses)\n",
    "plt.show()"
   ]
  },
  {
   "cell_type": "code",
   "execution_count": 206,
   "id": "e6cc6685-1000-4d44-8694-5b1eac5db6a8",
   "metadata": {},
   "outputs": [],
   "source": [
    "def get_np(xs):\n",
    "    return xs.detach().numpy()"
   ]
  },
  {
   "cell_type": "code",
   "execution_count": 207,
   "id": "c3f4dacc-3a16-41cb-b7f5-eb74657a9817",
   "metadata": {},
   "outputs": [
    {
     "data": {
      "image/png": "[encoded data removed]",
      "text/plain": [
       "<Figure size 432x288 with 1 Axes>"
      ]
     },
     "metadata": {
      "needs_background": "light"
     },
     "output_type": "display_data"
    },
    {
     "data": {
      "image/png": "[encoded data removed]",
      "text/plain": [
       "<Figure size 432x288 with 1 Axes>"
      ]
     },
     "metadata": {
      "needs_background": "light"
     },
     "output_type": "display_data"
    }
   ],
   "source": [
    "model.eval()\n",
    "\n",
    "xs = torch.linspace(-5, 5, 1000).view(-1, 1)\n",
    "fs, minus_log_ps, ps = model(xs)\n",
    "\n",
    "xs = get_np(xs)\n",
    "ps = get_np(ps)\n",
    "minus_log_ps = get_np(minus_log_ps)\n",
    "\n",
    "plt.hist(get_np(get_samplesX(16384)), density=True, bins=100)\n",
    "plt.plot(xs, ps)\n",
    "plt.show()\n",
    "\n",
    "plt.plot(xs, minus_log_ps)\n",
    "plt.show()"
   ]
  },
  {
   "cell_type": "markdown",
   "id": "d1ce0c71-337d-4216-9dc4-7b1e0428e5f3",
   "metadata": {},
   "source": [
    "### Find sample with maximum probability"
   ]
  },
  {
   "cell_type": "code",
   "execution_count": 217,
   "id": "28414476-9378-491a-9bc7-90c6d7fd64d5",
   "metadata": {},
   "outputs": [
    {
     "data": {
      "image/png": "[encoded data removed]",
      "text/plain": [
       "<Figure size 432x288 with 1 Axes>"
      ]
     },
     "metadata": {
      "needs_background": "light"
     },
     "output_type": "display_data"
    }
   ],
   "source": [
    "x = 5 * torch.ones(1, 1)\n",
    "x.requires_grad_()\n",
    "optimizer = torch.optim.SGD({x}, lr=.2)\n",
    "\n",
    "x_history = []\n",
    "y_history = []\n",
    "\n",
    "for _ in range(20):\n",
    "    _, minus_log_ps, _ = model(x)\n",
    "\n",
    "    x_history.append(x.item())\n",
    "    y_history.append(minus_log_ps.item())\n",
    "\n",
    "    optimizer.zero_grad()\n",
    "    minus_log_ps.backward()\n",
    "    optimizer.step()\n",
    "\n",
    "plt.title(rf\"Extimate of the sample with max probability: $x={x.item():.2}$\")\n",
    "plt.plot(xs, -np.log(ps), label=r\"$-\\log(ps)$\")\n",
    "plt.plot(x_history, y_history, \".\", label=\"histroy\")\n",
    "plt.legend()\n",
    "plt.show()"
   ]
  },
  {
   "cell_type": "markdown",
   "id": "48a9bfb4-eb0e-479b-9081-b04aace776dc",
   "metadata": {},
   "source": [
    "## Exercises\n",
    "* Assume $g$ and $f$ are sufficiently smooth convex functions and let $f$ be monotonically increasing. Look up the definiton of convexity based on the Hessian and prove that $f\\circ g$ is convex.\n",
    "* Use the above implemented ICNN to implement the reconstruction example in the motivation."
   ]
  }
 ],
 "metadata": {
  "kernelspec": {
   "display_name": "Python 3 (ipykernel)",
   "language": "python",
   "name": "python3"
  },
  "language_info": {
   "codemirror_mode": {
    "name": "ipython",
    "version": 3
   },
   "file_extension": ".py",
   "mimetype": "text/x-python",
   "name": "python",
   "nbconvert_exporter": "python",
   "pygments_lexer": "ipython3",
   "version": "3.9.12"
  }
 },
 "nbformat": 4,
 "nbformat_minor": 5
}
